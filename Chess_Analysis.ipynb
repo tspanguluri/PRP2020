{
  "nbformat": 4,
  "nbformat_minor": 0,
  "metadata": {
    "kernelspec": {
      "display_name": "Python 3",
      "language": "python",
      "name": "python3"
    },
    "language_info": {
      "codemirror_mode": {
        "name": "ipython",
        "version": 3
      },
      "file_extension": ".py",
      "mimetype": "text/x-python",
      "name": "python",
      "nbconvert_exporter": "python",
      "pygments_lexer": "ipython3",
      "version": "3.8.3"
    },
    "colab": {
      "name": "Chess Analysis.ipynb",
      "provenance": [],
      "collapsed_sections": []
    }
  },
  "cells": [
    {
      "cell_type": "code",
      "metadata": {
        "id": "wEp9aRiWjajN"
      },
      "source": [
        "import pandas as pd\n",
        "pd.set_option('display.max_columns', None)\n",
        "pd.set_option('precision', 2)"
      ],
      "execution_count": 489,
      "outputs": []
    },
    {
      "cell_type": "code",
      "metadata": {
        "id": "XTHMO-oWN-iX"
      },
      "source": [
        "# Reading the CSV File\n",
        "df = pd.read_csv('games.csv')"
      ],
      "execution_count": 490,
      "outputs": []
    },
    {
      "cell_type": "code",
      "metadata": {
        "id": "XonAD3puN-iX"
      },
      "source": [
        "# Drop the columns that are not needed\n",
        "df = df.dropna(axis=0, how='any', thresh=None, subset=None, inplace=False)\n",
        "df = df.dropna(axis=1, how='any', thresh=None, subset=None, inplace=False)"
      ],
      "execution_count": 491,
      "outputs": []
    },
    {
      "cell_type": "code",
      "metadata": {
        "id": "ey5dITUxN-iY"
      },
      "source": [
        "# Check what the dataframe looks like\n",
        "df.head()"
      ],
      "execution_count": null,
      "outputs": []
    },
    {
      "cell_type": "markdown",
      "metadata": {
        "id": "i2vS7BnN3hSa"
      },
      "source": [
        "# What percent of the games did white win? black?"
      ]
    },
    {
      "cell_type": "code",
      "metadata": {
        "id": "kgB58Ooggqtc"
      },
      "source": [
        "winner = list(df[\"winner\"])"
      ],
      "execution_count": 493,
      "outputs": []
    },
    {
      "cell_type": "code",
      "metadata": {
        "id": "SD0_qMgdiso5"
      },
      "source": [
        "whitePercent = (winner.count(\"white\") / (len(winner)))*100\n",
        "blackPercent = (winner.count(\"black\") / (len(winner)))*100\n",
        "drawPercent = (winner.count(\"draw\") / len(winner))*100"
      ],
      "execution_count": 494,
      "outputs": []
    },
    {
      "cell_type": "code",
      "metadata": {
        "colab": {
          "base_uri": "https://localhost:8080/"
        },
        "id": "LvkFMyZhvTYY",
        "outputId": "db85348f-502b-4bdc-e9b3-e07ecc269f00"
      },
      "source": [
        "print(\"White wins \"  + str(round(whitePercent, 2)) + \"% of the time\" + \".\")\n",
        "print(\"Black wins \"  + str(round(blackPercent, 2)) + \"% of the time\" + \".\")\n",
        "print(\"White and Black draw \"  + str(round(drawPercent, 2)) + \"% of the time\" + \".\")"
      ],
      "execution_count": 495,
      "outputs": [
        {
          "output_type": "stream",
          "text": [
            "White wins 49.86% of the time.\n",
            "Black wins 45.4% of the time.\n",
            "White and Black draw 4.74% of the time.\n"
          ],
          "name": "stdout"
        }
      ]
    },
    {
      "cell_type": "markdown",
      "metadata": {
        "id": "0QFvSXUu3zsj"
      },
      "source": [
        "# Average turns for each of the victory statuses?"
      ]
    },
    {
      "cell_type": "code",
      "metadata": {
        "id": "iTfDSTJulnsi"
      },
      "source": [
        "dfVictory = df"
      ],
      "execution_count": 496,
      "outputs": []
    },
    {
      "cell_type": "code",
      "metadata": {
        "id": "vZnCvU6Ll0xo"
      },
      "source": [
        "dfVictory = dfVictory[[\"turns\", \"victory_status\"]]"
      ],
      "execution_count": 497,
      "outputs": []
    },
    {
      "cell_type": "code",
      "metadata": {
        "id": "tJXoV4IOm1BR"
      },
      "source": [
        "turnslst = list(dfVictory[\"turns\"])"
      ],
      "execution_count": 498,
      "outputs": []
    },
    {
      "cell_type": "code",
      "metadata": {
        "id": "2dOciX6onLnS"
      },
      "source": [
        "vicstatuslst = list(dfVictory[\"victory_status\"])"
      ],
      "execution_count": 499,
      "outputs": []
    },
    {
      "cell_type": "code",
      "metadata": {
        "id": "Xvw3XqYknVJh"
      },
      "source": [
        "resign = 0\n",
        "time = 0\n",
        "mate = 0\n",
        "draw = 0\n",
        "for i in range(0, len(vicstatuslst)):\n",
        "  if vicstatuslst[i] == \"draw\":\n",
        "    draw += turnslst[i]\n",
        "  elif vicstatuslst[i] == \"mate\":\n",
        "    mate += turnslst[i]\n",
        "  elif vicstatuslst[i] == \"resign\":\n",
        "    resign += turnslst[i]\n",
        "  else:\n",
        "    time += turnslst[i]"
      ],
      "execution_count": 500,
      "outputs": []
    },
    {
      "cell_type": "code",
      "metadata": {
        "colab": {
          "base_uri": "https://localhost:8080/"
        },
        "id": "MghhvcCroX0v",
        "outputId": "fb7c79a3-2fe0-43c4-a23d-0116ae658eb9"
      },
      "source": [
        "print(\"The average number of turns before a resignation is \" + str(round(resign/(vicstatuslst.count(\"resign\")))) + \".\")\n",
        "print(\"The average number of turns before a checkmate is \" + str(round(mate/(vicstatuslst.count(\"mate\")))) + \".\")\n",
        "print(\"The average number of turns before a timeout is \" + str(round(time/(vicstatuslst.count(\"outoftime\")))) + \".\")\n",
        "print(\"The average number of turns before a draw is \" + str(round(draw/(vicstatuslst.count(\"draw\")))) + \".\")"
      ],
      "execution_count": 501,
      "outputs": [
        {
          "output_type": "stream",
          "text": [
            "The average number of turns before a resignation is 54.\n",
            "The average number of turns before a checkmate is 65.\n",
            "The average number of turns before a timeout is 73.\n",
            "The average number of turns before a draw is 84.\n"
          ],
          "name": "stdout"
        }
      ]
    },
    {
      "cell_type": "markdown",
      "metadata": {
        "id": "Oc8Gn6oy339S"
      },
      "source": [
        "# Most popular opening moves?"
      ]
    },
    {
      "cell_type": "code",
      "metadata": {
        "id": "kGMkM-epnAqa"
      },
      "source": [
        "opening = list(df[\"opening_name\"])"
      ],
      "execution_count": 502,
      "outputs": []
    },
    {
      "cell_type": "code",
      "metadata": {
        "id": "sw1QiM9cnlJ4"
      },
      "source": [
        "dict = {}\n",
        "for move in opening:\n",
        "  if move not in dict.keys():\n",
        "    dict[move] = 0\n",
        "  else:\n",
        "    dict[move] += 1"
      ],
      "execution_count": 503,
      "outputs": []
    },
    {
      "cell_type": "code",
      "metadata": {
        "id": "QlanSO1GrSKP"
      },
      "source": [
        "dict = {k: v for k, v in sorted(dict.items(), reverse=True, key=lambda item: item[1])}\n",
        "sum = 0\n",
        "for value in dict.values():\n",
        "  sum += value"
      ],
      "execution_count": 504,
      "outputs": []
    },
    {
      "cell_type": "code",
      "metadata": {
        "colab": {
          "base_uri": "https://localhost:8080/"
        },
        "id": "2ZI3AboPsMKf",
        "outputId": "2e3a435e-c94a-45fb-9078-4e6db036a2ac"
      },
      "source": [
        "print(\"5 most popular openings followed by frequency of occurence and percentage of occurence:\")\n",
        "print()\n",
        "counter = 1\n",
        "for x, y in dict.items():\n",
        "  if counter <= 5:\n",
        "    print(str(x) + \", \", str(y), \" times\", \",\", str(round(y/sum*100, 2)), \"%\")\n",
        "    counter += 1\n",
        "  else:\n",
        "    break"
      ],
      "execution_count": 505,
      "outputs": [
        {
          "output_type": "stream",
          "text": [
            "5 most popular openings followed by frequency of occurence and percentage of occurence:\n",
            "\n",
            "Van't Kruijs Opening,  367  times , 1.98 %\n",
            "Sicilian Defense,  357  times , 1.92 %\n",
            "Sicilian Defense: Bowdler Attack,  295  times , 1.59 %\n",
            "French Defense: Knight Variation,  270  times , 1.45 %\n",
            "Scotch Game,  270  times , 1.45 %\n"
          ],
          "name": "stdout"
        }
      ]
    },
    {
      "cell_type": "markdown",
      "metadata": {
        "id": "kk83qNRQ39De"
      },
      "source": [
        "# How many distinct players are in this dataset?"
      ]
    },
    {
      "cell_type": "code",
      "metadata": {
        "id": "sxjjVtG9tuaB"
      },
      "source": [
        "players = []\n",
        "whitePlayers = list(df[\"white_id\"])\n",
        "blackPlayers = list(df[\"black_id\"])\n",
        "total = whitePlayers + blackPlayers\n",
        "for player in total:\n",
        "  if player not in players:\n",
        "    players.append(player)"
      ],
      "execution_count": 506,
      "outputs": []
    },
    {
      "cell_type": "code",
      "metadata": {
        "colab": {
          "base_uri": "https://localhost:8080/"
        },
        "id": "HtdAHwVbiPl_",
        "outputId": "06f4d4ac-5036-4dd0-925c-fa1bb2f19b5a"
      },
      "source": [
        "print(\"There are \" + str(len(players)) + \" distinct players in this dataset.\")"
      ],
      "execution_count": 507,
      "outputs": [
        {
          "output_type": "stream",
          "text": [
            "There are 15635 distinct players in this dataset.\n"
          ],
          "name": "stdout"
        }
      ]
    },
    {
      "cell_type": "markdown",
      "metadata": {
        "id": "dcMW5P3F3-7x"
      },
      "source": [
        "# Any conclusions that can be drawn from the moves?"
      ]
    },
    {
      "cell_type": "code",
      "metadata": {
        "id": "ccYX25kliuBP",
        "colab": {
          "base_uri": "https://localhost:8080/"
        },
        "outputId": "cd1748ad-2e6a-40ee-f5cb-aaa3338a6051"
      },
      "source": [
        "moves = list(df[\"moves\"])\n",
        "movesDict = {}\n",
        "for move in moves:\n",
        "  if move[:2] not in movesDict:\n",
        "    movesDict[move[:2]] = 1\n",
        "  else:\n",
        "    movesDict[move[:2]] += 1\n",
        "print(movesDict)"
      ],
      "execution_count": 508,
      "outputs": [
        {
          "output_type": "stream",
          "text": [
            "{'d4': 4522, 'e4': 12598, 'e3': 416, 'c4': 716, 'Nf': 725, 'a4': 28, 'Nh': 15, 'g3': 186, 'h4': 33, 'f4': 166, 'b4': 88, 'Nc': 99, 'b3': 173, 'h3': 14, 'd3': 131, 'f3': 23, 'g4': 38, 'a3': 27, 'c3': 56, 'Na': 4}\n"
          ],
          "name": "stdout"
        }
      ]
    },
    {
      "cell_type": "code",
      "metadata": {
        "id": "ezAXxCI-orO5"
      },
      "source": [
        "sortedMovesDict = {o: p for o, p in sorted(movesDict.items(), reverse=False, key=lambda item: item[1])}"
      ],
      "execution_count": 509,
      "outputs": []
    },
    {
      "cell_type": "code",
      "metadata": {
        "id": "gqnRWF8Omd_B"
      },
      "source": [
        "sortedMoves = sorted(movesDict.values(), reverse = True)"
      ],
      "execution_count": 510,
      "outputs": []
    },
    {
      "cell_type": "code",
      "metadata": {
        "id": "eQYoUCPtqZ2b"
      },
      "source": [
        "sortedMovesLst = list(sortedMoves)"
      ],
      "execution_count": 511,
      "outputs": []
    },
    {
      "cell_type": "code",
      "metadata": {
        "colab": {
          "base_uri": "https://localhost:8080/"
        },
        "id": "ncjnkrkep5oA",
        "outputId": "aed25ced-7c06-4933-c07c-0a15542174ea"
      },
      "source": [
        "print(\"Most popular opening moves, in order: \")\n",
        "for moveName in sortedMovesLst:\n",
        "  print(list(sortedMovesDict.keys())[list(sortedMovesDict.values()).index(moveName)])"
      ],
      "execution_count": 512,
      "outputs": [
        {
          "output_type": "stream",
          "text": [
            "Most popular opening moves, in order: \n",
            "e4\n",
            "d4\n",
            "Nf\n",
            "c4\n",
            "e3\n",
            "g3\n",
            "b3\n",
            "f4\n",
            "d3\n",
            "Nc\n",
            "b4\n",
            "c3\n",
            "g4\n",
            "h4\n",
            "a4\n",
            "a3\n",
            "f3\n",
            "Nh\n",
            "h3\n",
            "Na\n"
          ],
          "name": "stdout"
        }
      ]
    }
  ]
}